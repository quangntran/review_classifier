{
 "cells": [
  {
   "cell_type": "markdown",
   "metadata": {},
   "source": [
    "# SVM Implementation to Classify RottenTomatoes Reviews "
   ]
  },
  {
   "cell_type": "code",
   "execution_count": 1,
   "metadata": {},
   "outputs": [
    {
     "name": "stdout",
     "output_type": "stream",
     "text": [
      "[nltk_data] Error loading punkt: <urlopen error [Errno 61] Connection\n",
      "[nltk_data]     refused>\n",
      "[nltk_data] Error loading averaged_perceptron_tagger: <urlopen error\n",
      "[nltk_data]     [Errno 61] Connection refused>\n"
     ]
    },
    {
     "data": {
      "text/plain": [
       "False"
      ]
     },
     "execution_count": 1,
     "metadata": {},
     "output_type": "execute_result"
    }
   ],
   "source": [
    "import pandas as pd\n",
    "import numpy as np\n",
    "from nltk.tokenize import word_tokenize\n",
    "from nltk import pos_tag\n",
    "from nltk.corpus import stopwords\n",
    "from nltk.stem import WordNetLemmatizer\n",
    "from sklearn.preprocessing import LabelEncoder\n",
    "from collections import defaultdict\n",
    "from nltk.corpus import wordnet as wn\n",
    "from sklearn.feature_extraction.text import TfidfVectorizer\n",
    "from sklearn import model_selection, naive_bayes, svm\n",
    "from sklearn.metrics import accuracy_score\n",
    "import nltk\n",
    "import csv\n",
    "import time\n",
    "import numpy as np\n",
    "import cvxpy as cvx\n",
    "from selenium import webdriver\n",
    "nltk.download('punkt')\n",
    "nltk.download('averaged_perceptron_tagger')"
   ]
  },
  {
   "cell_type": "markdown",
   "metadata": {},
   "source": [
    "# Part I - Creating data set \n",
    "\n"
   ]
  },
  {
   "cell_type": "markdown",
   "metadata": {},
   "source": [
    "For the code in the cell below to work, one needs to download Chrome webdriver:\n",
    "1. Go to this webpage https://chromedriver.chromium.org and download.\n",
    "2. Run the .exec file.\n",
    "3. After that, a Terminal pops up with a path (something that looks like `/Users/admin/Downloads/chromedriver`). Copy and paste this path to the line where `driver` is defined in the cell below."
   ]
  },
  {
   "cell_type": "code",
   "execution_count": 2,
   "metadata": {},
   "outputs": [],
   "source": [
    "# ! pip install selenium"
   ]
  },
  {
   "cell_type": "code",
   "execution_count": 3,
   "metadata": {},
   "outputs": [],
   "source": [
    "    \n",
    "import time\n",
    "from selenium import webdriver\n",
    "from selenium.common.exceptions import StaleElementReferenceException, NoSuchElementException, NoSuchWindowException\n",
    "\n",
    "# URL to the first page of audience reviews for The Godfather\n",
    "URL = 'https://www.rottentomatoes.com/m/godfather/reviews?type=user'\n",
    "# create a Chrome webdriver \n",
    "driver = webdriver.Chrome('/Users/admin/Downloads/chromedriver')  # Optional argument, if not specified will search path.\n",
    "# driver.implicitly_wait(1)\n",
    "first_review_prev_batch = ''\n",
    "num_reviews = 0            \n",
    "def store_data():\n",
    "    global num_reviews \n",
    "    global first_review_prev_batch\n",
    "    reviews = []\n",
    "    rates = []\n",
    "    while True:\n",
    "        try:\n",
    "            all_reviews = driver.find_elements_by_class_name('audience-reviews__item')\n",
    "            end = len(all_reviews)\n",
    "            i = 0\n",
    "            for element in all_reviews:\n",
    "                i += 1\n",
    "                p_elem = element.find_element_by_xpath(\".//p[@class='audience-reviews__review js-review-text clamp clamp-8 js-clamp']\")\n",
    "                review = p_elem.text\n",
    "                if review == first_review_prev_batch:\n",
    "                    break\n",
    "                reviews.append(review)\n",
    "                # get the number of stars (full or half)\n",
    "                star_elem = element.find_elements_by_css_selector(\".star-display__filled\")\n",
    "                # if there are more than 3 full stars (rate >= 3.5), then the review is positive\n",
    "                if len(star_elem) > 3:\n",
    "                    rate = 'positive'\n",
    "                else:\n",
    "                    rate = 'negative'\n",
    "                rates.append(rate)\n",
    "            if i == end:\n",
    "                break\n",
    "        # StaleElementsReferenceException occurs when my internet connection was slow, and \n",
    "        # therefore the web navigates after the data is scraped, causing insconsitencies.\n",
    "        # Therefore, this exception needs to be caught.\n",
    "        except StaleElementReferenceException:\n",
    "            reviews = []\n",
    "            rates = []\n",
    "            pass\n",
    "            \n",
    "    # write to csv file:\n",
    "    for i in range(len(reviews)):\n",
    "        if i==0:\n",
    "            first_review_prev_batch = reviews[i]\n",
    "        with open('rottentomato.csv', mode='a') as file:\n",
    "            writer = csv.writer(file, delimiter=',', quotechar='\"', quoting=csv.QUOTE_MINIMAL)\n",
    "            writer.writerow([reviews[i], rates[i]])\n",
    "    num_reviews += len(reviews)\n",
    "            \n",
    "\n",
    "with open('rottentomato.csv', mode='w') as file:\n",
    "            writer = csv.writer(file, delimiter=',', quotechar='\"', quoting=csv.QUOTE_MINIMAL)\n",
    "            writer.writerow(['text', 'label'])\n",
    "driver.get(URL);\n",
    "store_data()\n",
    "\n",
    "while True:\n",
    "    if num_reviews >= 20000:\n",
    "        break\n",
    "    try:\n",
    "        driver.find_element_by_class_name('js-prev-next-paging-next').click()\n",
    "        time.sleep(1)\n",
    "    except:\n",
    "        break\n",
    "    store_data()\n",
    "driver.quit()"
   ]
  },
  {
   "cell_type": "markdown",
   "metadata": {},
   "source": [
    "# Prepping data \n",
    "\n"
   ]
  },
  {
   "cell_type": "code",
   "execution_count": 4,
   "metadata": {},
   "outputs": [],
   "source": [
    "np.random.seed(500)"
   ]
  },
  {
   "cell_type": "code",
   "execution_count": 5,
   "metadata": {},
   "outputs": [],
   "source": [
    "Corpus = pd.read_csv(r\"rottentomato.csv\",encoding='latin-1')"
   ]
  },
  {
   "cell_type": "code",
   "execution_count": 6,
   "metadata": {},
   "outputs": [
    {
     "data": {
      "text/html": [
       "<div>\n",
       "<style scoped>\n",
       "    .dataframe tbody tr th:only-of-type {\n",
       "        vertical-align: middle;\n",
       "    }\n",
       "\n",
       "    .dataframe tbody tr th {\n",
       "        vertical-align: top;\n",
       "    }\n",
       "\n",
       "    .dataframe thead th {\n",
       "        text-align: right;\n",
       "    }\n",
       "</style>\n",
       "<table border=\"1\" class=\"dataframe\">\n",
       "  <thead>\n",
       "    <tr style=\"text-align: right;\">\n",
       "      <th></th>\n",
       "      <th>text</th>\n",
       "      <th>label</th>\n",
       "    </tr>\n",
       "  </thead>\n",
       "  <tbody>\n",
       "    <tr>\n",
       "      <th>0</th>\n",
       "      <td>If there ever was a film to show the art of ci...</td>\n",
       "      <td>positive</td>\n",
       "    </tr>\n",
       "    <tr>\n",
       "      <th>1</th>\n",
       "      <td>The Godfather is simply one of the greatest mo...</td>\n",
       "      <td>positive</td>\n",
       "    </tr>\n",
       "    <tr>\n",
       "      <th>2</th>\n",
       "      <td>Masterpiece!the way it was presented is phenom...</td>\n",
       "      <td>positive</td>\n",
       "    </tr>\n",
       "    <tr>\n",
       "      <th>3</th>\n",
       "      <td>Watched for the first time in 2020 over 3 sitt...</td>\n",
       "      <td>negative</td>\n",
       "    </tr>\n",
       "    <tr>\n",
       "      <th>4</th>\n",
       "      <td>Best movie ever made, no questions when it com...</td>\n",
       "      <td>positive</td>\n",
       "    </tr>\n",
       "  </tbody>\n",
       "</table>\n",
       "</div>"
      ],
      "text/plain": [
       "                                                text     label\n",
       "0  If there ever was a film to show the art of ci...  positive\n",
       "1  The Godfather is simply one of the greatest mo...  positive\n",
       "2  Masterpiece!the way it was presented is phenom...  positive\n",
       "3  Watched for the first time in 2020 over 3 sitt...  negative\n",
       "4  Best movie ever made, no questions when it com...  positive"
      ]
     },
     "execution_count": 6,
     "metadata": {},
     "output_type": "execute_result"
    }
   ],
   "source": [
    "Corpus.head()"
   ]
  },
  {
   "cell_type": "code",
   "execution_count": 7,
   "metadata": {},
   "outputs": [],
   "source": [
    "# Step - a : Remove blank rows if any.\n",
    "Corpus['text'].dropna(inplace=True)\n",
    "# Step - b : Change all the text to lower case. This is required as python interprets 'dog' and 'DOG' differently\n",
    "Corpus['text'] = [entry.lower() for entry in Corpus['text']]\n",
    "# Step - c : Tokenization : In this each entry in the corpus will be broken into set of words\n",
    "Corpus['text']= [word_tokenize(entry) for entry in Corpus['text']]\n",
    "# Step - d : Remove Stop words, Non-Numeric and perfom Word Stemming/Lemmenting.\n",
    "# WordNetLemmatizer requires Pos tags to understand if the word is noun or verb or adjective etc. By default it is set to Noun\n",
    "tag_map = defaultdict(lambda : wn.NOUN)\n",
    "tag_map['J'] = wn.ADJ\n",
    "tag_map['V'] = wn.VERB\n",
    "tag_map['R'] = wn.ADV\n",
    "for index,entry in enumerate(Corpus['text']):\n",
    "    # Declaring Empty List to store the words that follow the rules for this step\n",
    "    Final_words = []\n",
    "    # Initializing WordNetLemmatizer()\n",
    "    word_Lemmatized = WordNetLemmatizer()\n",
    "    # pos_tag function below will provide the 'tag' i.e if the word is Noun(N) or Verb(V) or something else.\n",
    "    for word, tag in pos_tag(entry):\n",
    "        # Below condition is to check for Stop words and consider only alphabets\n",
    "        if word not in stopwords.words('english') and word.isalpha():\n",
    "            word_Final = word_Lemmatized.lemmatize(word,tag_map[tag[0]])\n",
    "            Final_words.append(word_Final)\n",
    "    # The final processed set of words for each iteration will be stored in 'text_final'\n",
    "    Corpus.loc[index,'text_final'] = str(Final_words)"
   ]
  },
  {
   "cell_type": "code",
   "execution_count": 8,
   "metadata": {},
   "outputs": [
    {
     "data": {
      "text/html": [
       "<div>\n",
       "<style scoped>\n",
       "    .dataframe tbody tr th:only-of-type {\n",
       "        vertical-align: middle;\n",
       "    }\n",
       "\n",
       "    .dataframe tbody tr th {\n",
       "        vertical-align: top;\n",
       "    }\n",
       "\n",
       "    .dataframe thead th {\n",
       "        text-align: right;\n",
       "    }\n",
       "</style>\n",
       "<table border=\"1\" class=\"dataframe\">\n",
       "  <thead>\n",
       "    <tr style=\"text-align: right;\">\n",
       "      <th></th>\n",
       "      <th>text</th>\n",
       "      <th>label</th>\n",
       "      <th>text_final</th>\n",
       "    </tr>\n",
       "  </thead>\n",
       "  <tbody>\n",
       "    <tr>\n",
       "      <th>0</th>\n",
       "      <td>[if, there, ever, was, a, film, to, show, the,...</td>\n",
       "      <td>positive</td>\n",
       "      <td>['ever', 'film', 'show', 'art', 'cinema', 'god...</td>\n",
       "    </tr>\n",
       "    <tr>\n",
       "      <th>1</th>\n",
       "      <td>[the, godfather, is, simply, one, of, the, gre...</td>\n",
       "      <td>positive</td>\n",
       "      <td>['godfather', 'simply', 'one', 'great', 'movie...</td>\n",
       "    </tr>\n",
       "    <tr>\n",
       "      <th>2</th>\n",
       "      <td>[masterpiece, !, the, way, it, was, presented,...</td>\n",
       "      <td>positive</td>\n",
       "      <td>['masterpiece', 'way', 'present', 'phenomenal'...</td>\n",
       "    </tr>\n",
       "    <tr>\n",
       "      <th>3</th>\n",
       "      <td>[watched, for, the, first, time, in, 2020, ove...</td>\n",
       "      <td>negative</td>\n",
       "      <td>['watch', 'first', 'time', 'sitting', 'see', '...</td>\n",
       "    </tr>\n",
       "    <tr>\n",
       "      <th>4</th>\n",
       "      <td>[best, movie, ever, made, ,, no, questions, wh...</td>\n",
       "      <td>positive</td>\n",
       "      <td>['best', 'movie', 'ever', 'make', 'question', ...</td>\n",
       "    </tr>\n",
       "  </tbody>\n",
       "</table>\n",
       "</div>"
      ],
      "text/plain": [
       "                                                text     label  \\\n",
       "0  [if, there, ever, was, a, film, to, show, the,...  positive   \n",
       "1  [the, godfather, is, simply, one, of, the, gre...  positive   \n",
       "2  [masterpiece, !, the, way, it, was, presented,...  positive   \n",
       "3  [watched, for, the, first, time, in, 2020, ove...  negative   \n",
       "4  [best, movie, ever, made, ,, no, questions, wh...  positive   \n",
       "\n",
       "                                          text_final  \n",
       "0  ['ever', 'film', 'show', 'art', 'cinema', 'god...  \n",
       "1  ['godfather', 'simply', 'one', 'great', 'movie...  \n",
       "2  ['masterpiece', 'way', 'present', 'phenomenal'...  \n",
       "3  ['watch', 'first', 'time', 'sitting', 'see', '...  \n",
       "4  ['best', 'movie', 'ever', 'make', 'question', ...  "
      ]
     },
     "execution_count": 8,
     "metadata": {},
     "output_type": "execute_result"
    }
   ],
   "source": [
    "Corpus.head()"
   ]
  },
  {
   "cell_type": "code",
   "execution_count": 9,
   "metadata": {},
   "outputs": [],
   "source": [
    "# train test split\n",
    "Train_X, Test_X, Train_Y, Test_Y = model_selection.train_test_split(Corpus['text_final'],Corpus['label'],test_size=0.3)"
   ]
  },
  {
   "cell_type": "code",
   "execution_count": 10,
   "metadata": {},
   "outputs": [],
   "source": [
    "Encoder = LabelEncoder()\n",
    "Train_Y = Encoder.fit_transform(Train_Y)\n",
    "Test_Y = Encoder.fit_transform(Test_Y)"
   ]
  },
  {
   "cell_type": "code",
   "execution_count": 11,
   "metadata": {},
   "outputs": [],
   "source": [
    "Tfidf_vect = TfidfVectorizer(max_features=5000)\n",
    "Tfidf_vect.fit(Corpus['text_final'])\n",
    "Train_X_Tfidf = Tfidf_vect.transform(Train_X)\n",
    "Test_X_Tfidf = Tfidf_vect.transform(Test_X)"
   ]
  },
  {
   "cell_type": "code",
   "execution_count": 12,
   "metadata": {},
   "outputs": [
    {
     "name": "stdout",
     "output_type": "stream",
     "text": [
      "Shape of training data: (14000, 5000)\n",
      "Shape of training label: (14000,)\n",
      "Shape of testing data: (6000, 5000)\n",
      "Shape of testing label: (6000,)\n"
     ]
    }
   ],
   "source": [
    "print('Shape of training data:', Train_X_Tfidf.shape)\n",
    "print('Shape of training label:', Train_Y.shape)\n",
    "print('Shape of testing data:', Test_X_Tfidf.shape)\n",
    "print('Shape of testing label:', Test_Y.shape)"
   ]
  },
  {
   "cell_type": "code",
   "execution_count": 13,
   "metadata": {},
   "outputs": [
    {
     "name": "stdout",
     "output_type": "stream",
     "text": [
      "5000\n"
     ]
    }
   ],
   "source": [
    "# the size of the vocab \n",
    "print(len(Tfidf_vect.vocabulary_))"
   ]
  },
  {
   "cell_type": "code",
   "execution_count": 14,
   "metadata": {},
   "outputs": [],
   "source": [
    "# Relabel the data so that the labels are 1 and -1\n",
    "for i in range(Train_Y.shape[0]):\n",
    "    if Train_Y[i] == 0:\n",
    "        Train_Y[i] = -1"
   ]
  },
  {
   "cell_type": "markdown",
   "metadata": {},
   "source": [
    "# CVXPY code "
   ]
  },
  {
   "cell_type": "code",
   "execution_count": 15,
   "metadata": {},
   "outputs": [],
   "source": [
    "# Code for CVXPY\n",
    "def svm_cvx(x,y,C=1):\n",
    "    # define some parameters\n",
    "    # number of samples/ data poitns\n",
    "    n = x.shape[0]\n",
    "    # number of features\n",
    "    m = x.shape[1]\n",
    "\n",
    "\n",
    "    # create variables\n",
    "    w = cvx.Variable(m)\n",
    "    eps = cvx.Variable(n) # a vector of n epsilons corresponding to n data points\n",
    "    b = cvx.Variable()\n",
    "\n",
    "    # objective function\n",
    "    obj = cvx.Minimize((cvx.norm(w))**2)\n",
    "    obj = cvx.Minimize(cvx.sum_squares(w))\n",
    "    # prob = cvx.Problem(obj)\n",
    "    # cvx.sum_squares(w) is w.T w \n",
    "    obj = cvx.Minimize(.5*cvx.sum_squares(w) + C*cvx.sum(eps))\n",
    "    # constraints\n",
    "    ## Constraint set 1. y_i(w.Tx_i + b)>= 1 - eps_i\n",
    "    con = [-y[i]*(x[i]@w + b) + 1 - eps[i] <= 0 for i in range(n)]\n",
    "    # con = [-y[i]*(cvx.sum(cvx.multiply(w,x[i])) + b) + 1 - eps[i] <= 0 for i in range(n)]\n",
    "    ## Constraint set 2.\n",
    "    # con = [w[i] <= 0 for i in range(m)]\n",
    "    con.extend([-eps[i] <= 0 for i in range(n)])\n",
    "\n",
    "    # solve the problem \n",
    "    prob = cvx.Problem(obj, con)\n",
    "    prob.solve() \n",
    "    return w.value, b.value, prob.value "
   ]
  },
  {
   "cell_type": "code",
   "execution_count": 16,
   "metadata": {},
   "outputs": [],
   "source": [
    "def compute_decision(w,b,x):\n",
    "    \"\"\"\n",
    "    Given w and b, calculate the classification of all data points x.\n",
    "    \n",
    "    Inputs:\n",
    "    - w: array of shape (m,). m is the number of features\n",
    "    - b: float \n",
    "    - x: array of shape (n,m), containing the data points to classify\n",
    "    \"\"\"\n",
    "    m = w.shape[0]\n",
    "    n = x.shape[0]\n",
    "    decision = np.matmul(w.transpose().reshape((1,m)), x.transpose()) +b \n",
    "    # one side of the decision boundary is class 1, the other class -1 \n",
    "    decision[decision>0] = 1\n",
    "    decision[decision<=0] = -1\n",
    "    return decision       \n",
    "    "
   ]
  },
  {
   "cell_type": "markdown",
   "metadata": {},
   "source": [
    "# CVXPY vs Sklearn\n",
    "\n",
    "This section is to demonstrate that the `cvxpy` implementation works properly "
   ]
  },
  {
   "cell_type": "code",
   "execution_count": 17,
   "metadata": {},
   "outputs": [
    {
     "name": "stdout",
     "output_type": "stream",
     "text": [
      "Finished C= 0.1\n",
      "Finished C= 0.5\n",
      "Finished C= 1\n",
      "Finished C= 2\n",
      "Finished C= 5\n",
      "Finished C= 8\n",
      "Finished C= 10\n"
     ]
    }
   ],
   "source": [
    "C_list = [0.1, 0.5, 1, 2, 5, 8, 10]\n",
    "diff_list = []\n",
    "predictions = []\n",
    "margin_width_list = []\n",
    "cost_list = []\n",
    "for C in C_list:\n",
    "    # sklearn implementation\n",
    "    SVM = svm.SVC(C=C, kernel='linear',)\n",
    "    SVM.fit(Train_X_Tfidf,Train_Y)\n",
    "    # predict the labels on validation dataset\n",
    "    predict_sk = SVM.predict(Test_X_Tfidf)\n",
    "    \n",
    "    # CVXPY implementation\n",
    "    w, b, cost = svm_cvx(x=Train_X_Tfidf.toarray(), y=Train_Y, C=C)\n",
    "    # store the margin width\n",
    "    margin_width_list.append(2/((w.dot(w))**.5))\n",
    "    # store the cost\n",
    "    cost_list.append(cost)\n",
    "    # predict the labels on validation dataset\n",
    "    predict_cvx = compute_decision(w,b,x=Test_X_Tfidf.toarray())\n",
    "    predictions.append(predict_cvx)\n",
    "    # compare the predictions from the 2 implementations\n",
    "    num_diff = np.sum(predict_sk != predict_cvx)\n",
    "    diff_list.append(num_diff)\n",
    "    print('Finished C=', C)"
   ]
  },
  {
   "cell_type": "code",
   "execution_count": 18,
   "metadata": {},
   "outputs": [
    {
     "name": "stdout",
     "output_type": "stream",
     "text": [
      "C = 0.1 : 0 mismatches\n",
      "C = 0.5 : 0 mismatches\n",
      "C = 1 : 0 mismatches\n",
      "C = 2 : 0 mismatches\n",
      "C = 5 : 0 mismatches\n",
      "C = 8 : 0 mismatches\n",
      "C = 10 : 0 mismatches\n"
     ]
    }
   ],
   "source": [
    "for i in range(len(C_list)):\n",
    "    print('C =', C_list[i], ':', diff_list[i], 'mismatches')"
   ]
  },
  {
   "cell_type": "markdown",
   "metadata": {},
   "source": [
    "# Evaluation\n"
   ]
  },
  {
   "cell_type": "code",
   "execution_count": 19,
   "metadata": {},
   "outputs": [],
   "source": [
    "# Relabel the test data so that the labels are 1 and -1\n",
    "for i in range(Test_Y.shape[0]):\n",
    "    if Test_Y[i] == 0:\n",
    "        Test_Y[i] = -1"
   ]
  },
  {
   "cell_type": "code",
   "execution_count": 27,
   "metadata": {},
   "outputs": [
    {
     "data": {
      "image/png": "[encoded data removed]",
      "text/plain": [
       "<Figure size 432x288 with 1 Axes>"
      ]
     },
     "metadata": {},
     "output_type": "display_data"
    }
   ],
   "source": [
    "# C vs cost \n",
    "import matplotlib.pyplot as plt\n",
    "plt.plot(C_list, cost_list)\n",
    "plt.ylim(ymin=0)\n",
    "plt.xlabel('C')\n",
    "plt.ylabel('optimization cost')\n",
    "plt.show()"
   ]
  },
  {
   "cell_type": "code",
   "execution_count": 21,
   "metadata": {},
   "outputs": [
    {
     "data": {
      "image/png": "[encoded data removed]",
      "text/plain": [
       "<Figure size 432x288 with 1 Axes>"
      ]
     },
     "metadata": {},
     "output_type": "display_data"
    }
   ],
   "source": [
    "# C vs marin width\n",
    "plt.plot(C_list, margin_width_list)\n",
    "plt.ylim(ymin=0)\n",
    "plt.xlabel('C')\n",
    "plt.ylabel('margin width')\n",
    "plt.show()"
   ]
  },
  {
   "cell_type": "code",
   "execution_count": 22,
   "metadata": {},
   "outputs": [],
   "source": [
    "# precision vs recall \n",
    "from sklearn.metrics import precision_score\n",
    "from sklearn.metrics import recall_score\n",
    "y_true = Test_Y\n",
    "precision_list = []\n",
    "recall_list = []\n",
    "# precision and recall for different values of C\n",
    "for i in range(len(C_list)):\n",
    "    y_pred = predictions[i].reshape(6000)\n",
    "    # compute precision\n",
    "    precision_list.append(precision_score(y_true, y_pred, pos_label=-1))\n",
    "    # compute recall\n",
    "    recall_list.append(recall_score(y_true, y_pred, pos_label=-1))"
   ]
  },
  {
   "cell_type": "code",
   "execution_count": 23,
   "metadata": {},
   "outputs": [
    {
     "data": {
      "image/png": "[encoded data removed]",
      "text/plain": [
       "<Figure size 432x288 with 1 Axes>"
      ]
     },
     "metadata": {},
     "output_type": "display_data"
    }
   ],
   "source": [
    "# plot it!\n",
    "import matplotlib.pyplot as plt\n",
    "plt.plot(C_list, precision_list, label='precision')\n",
    "plt.plot(C_list, recall_list, label='recall')\n",
    "plt.ylim(ymin=0)\n",
    "plt.legend()\n",
    "plt.xlabel('C')\n",
    "plt.show()"
   ]
  }
 ],
 "metadata": {
  "kernelspec": {
   "display_name": "Python 3",
   "language": "python",
   "name": "python3"
  },
  "language_info": {
   "codemirror_mode": {
    "name": "ipython",
    "version": 3
   },
   "file_extension": ".py",
   "mimetype": "text/x-python",
   "name": "python",
   "nbconvert_exporter": "python",
   "pygments_lexer": "ipython3",
   "version": "3.6.5"
  }
 },
 "nbformat": 4,
 "nbformat_minor": 2
}
